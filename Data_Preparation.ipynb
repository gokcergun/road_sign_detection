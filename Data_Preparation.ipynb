{
 "cells": [
  {
   "cell_type": "code",
   "execution_count": 2,
   "id": "696751c6-afbd-4e5e-bb32-bedbb0975b24",
   "metadata": {},
   "outputs": [],
   "source": [
    "import os\n",
    "from IPython.display import Image  # for displaying images\n",
    "import random\n",
    "import shutil\n",
    "from sklearn.model_selection import train_test_split\n",
    "import xml.etree.ElementTree as ET\n",
    "from xml.dom import minidom\n",
    "from tqdm import tqdm\n",
    "from PIL import Image, ImageDraw\n",
    "import numpy as np\n",
    "import matplotlib.pyplot as plt"
   ]
  },
  {
   "cell_type": "markdown",
   "id": "f0ea3baa-2e93-4d3d-a984-5d4e952c51bc",
   "metadata": {},
   "source": [
    "# 1. Introduction"
   ]
  },
  {
   "cell_type": "markdown",
   "id": "6f0e08bf-d14d-4444-9798-37a53a974264",
   "metadata": {},
   "source": [
    "Our project aims to compare two different frameworks on a object detection task. Object detection is one of the most important areas in computer vision. It involves identifying the presence, location and type (class) of one or more instance on a given image and plays a key role in various practical applications.  \n",
    "To compare different object detection algorithms we are going to use object sign dataset from <a href=\"https://makeml.app/datasets/road-signs\">MakeML</a>. It includes 877 images of the following classes: Trafic Light, Stop, Speedlimit, Crosswalk. Annotations files of the dataset in Pascal Voc format. "
   ]
  },
  {
   "cell_type": "markdown",
   "id": "dd3a7393",
   "metadata": {},
   "source": [
    "# 2. Download data\n",
    "\n",
    "The dataset is downloaded manually from https://arcraftimages.s3-accelerate.amazonaws.com/Datasets/RoadSigns/RoadSignsPascalVOC.zip?region=us-east-2 in Road_Sign_Dataset folder"
   ]
  },
  {
   "cell_type": "code",
   "execution_count": 5,
   "id": "6b19d5d3-6dc1-4484-a2af-79b8ee93b938",
   "metadata": {},
   "outputs": [
    {
     "name": "stdout",
     "output_type": "stream",
     "text": [
      "current working directory:  C:\\Users\\gokce\\Documents\\GitHub\\road_sign_detection\n",
      "\n",
      " documents before creating the dataset folder,  ['.git', '.ipynb_checkpoints', 'Data_Preparation.ipynb', 'New folder', 'README.md', 'Road_Sign_YOLOv5.ipynb']\n",
      "\n",
      " after mkdir command:  ['.git', '.ipynb_checkpoints', 'Data_Preparation.ipynb', 'New folder', 'README.md', 'Road_Sign_Dataset', 'Road_Sign_YOLOv5.ipynb']\n"
     ]
    }
   ],
   "source": [
    "# Create an empty folder into the current working directory \n",
    "print(\"current working directory: \", os.getcwd())\n",
    "print(\"\\n documents before creating the dataset folder, \", os.listdir()) \n",
    "\n",
    "# Create Road_Sign_Dataset folder\n",
    "!mkdir Road_Sign_Dataset\n",
    "print(\"\\n after mkdir command: \", os.listdir())\n",
    "\n",
    "# Change current directory into newly created dataset folder\n",
    "os.chdir(\"./Road_Sign_Dataset\")\n",
    "\n",
    "# Download the dataset under Road_Sign_Dataset folder, and unzip folder manually\n",
    "\n"
   ]
  },
  {
   "cell_type": "code",
   "execution_count": 7,
   "id": "a4667ba0-712c-43b7-b0c7-33f1bbf46604",
   "metadata": {},
   "outputs": [],
   "source": [
    "# list folders\n",
    "print(os.listdir())\n",
    "\n",
    "# Remove unnecessary folders\n",
    "remove(\"RoadSignsPascalVOC.zip\")\n",
    "shutil. rmtree(\"__MACOSX\") "
   ]
  },
  {
   "cell_type": "markdown",
   "id": "4e42d3e4",
   "metadata": {},
   "source": [
    "# 3. Convert the annotations into Yolo v5 data format\n",
    "The annotations of dataset is in PASCAL VOC format. The PASCAL VOC format stores its annotation in XML files where various attributes are described by tags.\n",
    "\n",
    "YOLO v5 expects annotations for each image in form of a .txt file where each line of the text file describes a bounding box. \n",
    "Annotation file of the image has following specifications:\n",
    "- One row per instance\n",
    "- Each row in: **class** **x_center** **y_center** **width** **height** format.\n",
    "- Box coordinates must be normalized by the dimensions of the image (i.e. have values between 0 and 1)\n",
    "- Classes are zero-indexed (start from 0)."
   ]
  },
  {
   "cell_type": "code",
   "execution_count": 8,
   "id": "3745f376-ba5e-437d-a8a0-bb5fbcd65f70",
   "metadata": {},
   "outputs": [],
   "source": [
    "# Define function to get the data from XML Annotation\n",
    "def extract_info_from_xml(xml_file):\n",
    "    root = ET.parse(xml_file).getroot()\n",
    "    \n",
    "    # Initialise the info dict \n",
    "    info_dict = {}\n",
    "    info_dict['bboxes'] = []\n",
    "\n",
    "    # Parse the XML Tree\n",
    "    for elem in root:\n",
    "        # Get the file name \n",
    "        if elem.tag == \"filename\":\n",
    "            info_dict['filename'] = elem.text\n",
    "            \n",
    "        # Get the image size\n",
    "        elif elem.tag == \"size\":\n",
    "            image_size = []\n",
    "            for subelem in elem:\n",
    "                image_size.append(int(subelem.text))\n",
    "            \n",
    "            info_dict['image_size'] = tuple(image_size)\n",
    "        \n",
    "        # Get details of the bounding box \n",
    "        elif elem.tag == \"object\":\n",
    "            bbox = {}\n",
    "            for subelem in elem:\n",
    "                if subelem.tag == \"name\":\n",
    "                    bbox[\"class\"] = subelem.text\n",
    "                    \n",
    "                elif subelem.tag == \"bndbox\":\n",
    "                    for subsubelem in subelem:\n",
    "                        bbox[subsubelem.tag] = int(subsubelem.text)            \n",
    "            info_dict['bboxes'].append(bbox)\n",
    "    \n",
    "    return info_dict"
   ]
  },
  {
   "cell_type": "code",
   "execution_count": 12,
   "id": "106af7e6-6f27-4823-b94a-06aaa425da10",
   "metadata": {},
   "outputs": [
    {
     "name": "stdout",
     "output_type": "stream",
     "text": [
      "{'bboxes': [{'class': 'trafficlight', 'xmin': 20, 'ymin': 109, 'xmax': 81, 'ymax': 237}, {'class': 'trafficlight', 'xmin': 116, 'ymin': 162, 'xmax': 163, 'ymax': 272}, {'class': 'trafficlight', 'xmin': 189, 'ymin': 189, 'xmax': 233, 'ymax': 295}], 'filename': 'road4.png', 'image_size': (267, 400, 3)}\n"
     ]
    }
   ],
   "source": [
    "# example from one xml file\n",
    "print(extract_info_from_xml('./annotations/road4.xml'))"
   ]
  },
  {
   "cell_type": "code",
   "execution_count": 13,
   "id": "a42aa66e-81f5-4d26-9c8d-6727562b852f",
   "metadata": {},
   "outputs": [],
   "source": [
    "# Dictionary that maps class names to IDs\n",
    "class_name_to_id_mapping = {\"trafficlight\": 0,\n",
    "                           \"stop\": 1,\n",
    "                           \"speedlimit\": 2,\n",
    "                           \"crosswalk\": 3}\n",
    "\n",
    "# Define a function to convert the info dict to the required yolo format and write it to disk\n",
    "def convert_to_yolov5(info_dict):\n",
    "    print_buffer = []\n",
    "    \n",
    "    # For each bounding box\n",
    "    for b in info_dict[\"bboxes\"]:\n",
    "        try:\n",
    "            class_id = class_name_to_id_mapping[b[\"class\"]]\n",
    "        except KeyError:\n",
    "            print(\"Invalid Class. Must be one from \", class_name_to_id_mapping.keys())\n",
    "        \n",
    "        # Transform the bbox co-ordinates as per the format required by YOLO v5\n",
    "        b_center_x = (b[\"xmin\"] + b[\"xmax\"]) / 2 \n",
    "        b_center_y = (b[\"ymin\"] + b[\"ymax\"]) / 2\n",
    "        b_width    = (b[\"xmax\"] - b[\"xmin\"])\n",
    "        b_height   = (b[\"ymax\"] - b[\"ymin\"])\n",
    "        \n",
    "        # Normalise the co-ordinates by the dimensions of the image\n",
    "        image_w, image_h, image_c = info_dict[\"image_size\"]  \n",
    "        b_center_x /= image_w \n",
    "        b_center_y /= image_h \n",
    "        b_width    /= image_w \n",
    "        b_height   /= image_h \n",
    "        \n",
    "        #Write the bbox details to the file \n",
    "        print_buffer.append(\"{} {:.3f} {:.3f} {:.3f} {:.3f}\".format(class_id, b_center_x, b_center_y, b_width, b_height))\n",
    "        \n",
    "    # Name of the file which we have to save \n",
    "    save_file_name = os.path.join(\"annotations\", info_dict[\"filename\"].replace(\"png\", \"txt\"))\n",
    "    \n",
    "    # Save the annotation to disk\n",
    "    print(\"\\n\".join(print_buffer), file= open(save_file_name, \"w\"))"
   ]
  },
  {
   "cell_type": "code",
   "execution_count": 14,
   "id": "ffa5cecc-f0b3-4b1c-9eba-c8abb032fd26",
   "metadata": {},
   "outputs": [
    {
     "name": "stderr",
     "output_type": "stream",
     "text": [
      "100%|███████████████████████████████████████████████████████████████████████████████| 877/877 [00:03<00:00, 280.00it/s]\n"
     ]
    }
   ],
   "source": [
    "# Get the annotations\n",
    "annotations = [os.path.join('annotations', x) for x in os.listdir('annotations') if x[-3:] == \"xml\"]\n",
    "annotations.sort()\n",
    "\n",
    "# Convert and save the annotations\n",
    "for ann in tqdm(annotations):\n",
    "    info_dict = extract_info_from_xml(ann)\n",
    "    convert_to_yolov5(info_dict)\n",
    "annotations = [os.path.join('annotations', x) for x in os.listdir('annotations') if x[-3:] == \"txt\"]"
   ]
  },
  {
   "cell_type": "code",
   "execution_count": 17,
   "id": "1aa14f4f-5f86-48ab-b9c0-c4cfa0d6a753",
   "metadata": {},
   "outputs": [
    {
     "data": {
      "image/png": "[encoded data removed]",
      "text/plain": [
       "<Figure size 432x288 with 1 Axes>"
      ]
     },
     "metadata": {
      "needs_background": "light"
     },
     "output_type": "display_data"
    }
   ],
   "source": [
    "# to test annotations, visualize a random image. To change the image please change the ranom.seed number\n",
    "random.seed(7)\n",
    "\n",
    "class_id_to_name_mapping = dict(zip(class_name_to_id_mapping.values(), class_name_to_id_mapping.keys()))\n",
    "\n",
    "def plot_bounding_box(image, annotation_list):\n",
    "    annotations = np.array(annotation_list)\n",
    "    w, h = image.size\n",
    "    \n",
    "    plotted_image = ImageDraw.Draw(image)\n",
    "\n",
    "    transformed_annotations = np.copy(annotations)\n",
    "    transformed_annotations[:,[1,3]] = annotations[:,[1,3]] * w\n",
    "    transformed_annotations[:,[2,4]] = annotations[:,[2,4]] * h \n",
    "    \n",
    "    transformed_annotations[:,1] = transformed_annotations[:,1] - (transformed_annotations[:,3] / 2)\n",
    "    transformed_annotations[:,2] = transformed_annotations[:,2] - (transformed_annotations[:,4] / 2)\n",
    "    transformed_annotations[:,3] = transformed_annotations[:,1] + transformed_annotations[:,3]\n",
    "    transformed_annotations[:,4] = transformed_annotations[:,2] + transformed_annotations[:,4]\n",
    "    \n",
    "    for ann in transformed_annotations:\n",
    "        obj_cls, x0, y0, x1, y1 = ann\n",
    "        plotted_image.rectangle(((x0,y0), (x1,y1)))\n",
    "        \n",
    "        plotted_image.text((x0, y0 - 10), class_id_to_name_mapping[(int(obj_cls))])\n",
    "    \n",
    "    plt.imshow(np.array(image))\n",
    "    plt.show()\n",
    "\n",
    "# Get any random annotation file \n",
    "annotation_file = random.choice(annotations)\n",
    "with open(annotation_file, \"r\") as file:\n",
    "    annotation_list = file.read().split(\"\\n\")[:-1]\n",
    "    annotation_list = [x.split(\" \") for x in annotation_list]\n",
    "    annotation_list = [[float(y) for y in x ] for x in annotation_list]\n",
    "\n",
    "#Get the corresponding image file\n",
    "image_file = annotation_file.replace(\"annotations\", \"images\").replace(\"txt\", \"png\")\n",
    "assert os.path.exists(image_file)\n",
    "\n",
    "#Load the image\n",
    "image = Image.open(image_file)\n",
    "\n",
    "#Plot the Bounding Box\n",
    "plot_bounding_box(image, annotation_list)"
   ]
  },
  {
   "cell_type": "markdown",
   "id": "44cf0f33",
   "metadata": {},
   "source": [
    "# 4. Partition Dataset\n",
    "data partition: train (80%), validation(%10), and test sets(10%)"
   ]
  },
  {
   "cell_type": "code",
   "execution_count": 18,
   "id": "5a915219-39f1-4dda-bc8e-bba05ff6d426",
   "metadata": {},
   "outputs": [],
   "source": [
    "\n",
    "# Read images and annotations\n",
    "images = [os.path.join('images', x) for x in os.listdir('images')]\n",
    "annotations = [os.path.join('annotations', x) for x in os.listdir('annotations') if x[-3:] == \"txt\"]\n",
    "\n",
    "images.sort()\n",
    "annotations.sort()\n",
    "\n",
    "# Split the dataset into train-valid-test splits \n",
    "train_images, val_images, train_annotations, val_annotations = train_test_split(images, annotations, test_size = 0.2, random_state = 1)\n",
    "val_images, test_images, val_annotations, test_annotations = train_test_split(val_images, val_annotations, test_size = 0.5, random_state = 1)"
   ]
  },
  {
   "cell_type": "code",
   "execution_count": 19,
   "id": "d7da6d32-18e7-415d-a29f-dc3e9e5fc834",
   "metadata": {},
   "outputs": [],
   "source": [
    "# create folders \n",
    "!mkdir \"images/train\" \"images/val\" \"images/test\" \"annotations/train\" \"annotations/val\" \"annotations/test\""
   ]
  },
  {
   "cell_type": "code",
   "execution_count": 20,
   "id": "7972e21e-1e4b-4d51-a489-dc24fe69b4ba",
   "metadata": {},
   "outputs": [],
   "source": [
    "#Utility function to move images \n",
    "def move_files_to_folder(list_of_files, destination_folder):\n",
    "    for f in list_of_files:\n",
    "        try:\n",
    "            shutil.move(f, destination_folder)\n",
    "        except:\n",
    "            print(f)\n",
    "            assert False\n",
    "\n",
    "# Move the splits into their folders\n",
    "move_files_to_folder(train_images, 'images/train')\n",
    "move_files_to_folder(val_images, 'images/val/')\n",
    "move_files_to_folder(test_images, 'images/test/')\n",
    "move_files_to_folder(train_annotations, 'annotations/train/')\n",
    "move_files_to_folder(val_annotations, 'annotations/val/')\n",
    "move_files_to_folder(test_annotations, 'annotations/test/')"
   ]
  },
  {
   "cell_type": "markdown",
   "id": "b843330b-69c5-473e-9d1b-94b59704a1ed",
   "metadata": {},
   "source": [
    "After that, we manually renamed annotations folder name to labels. "
   ]
  },
  {
   "cell_type": "markdown",
   "id": "44946ccb",
   "metadata": {},
   "source": [
    "# 5. Data Config File\n",
    "We saved the following information on a .txt file manually and rename the file as *road_sign_data.yaml* \n",
    "Yaml file is saved under Road_Sign_Dataset folder. The paths are define according to Google Drive folder structure.\n",
    "\n",
    "train: ../drive/MyDrive/Datasets/Road_Sign_Dataset/images/train/ <br>\n",
    "val:  ../drive/MyDrive/Datasets/Road_Sign_Dataset/images/val/ <br>\n",
    "test: ../drive/MyDrive/Datasets/Road_Sign_Dataset/images/test/ <br>\n",
    "\n",
    "/# number of classes\n",
    "nc: 4\n",
    "\n",
    "/# class names\n",
    "names: [\"trafficlight\",\"stop\", \"speedlimit\",\"crosswalk\"]"
   ]
  },
  {
   "cell_type": "markdown",
   "id": "982db54f",
   "metadata": {},
   "source": [
    "# 6. Upload Data into Google Drive\n",
    "Upload Road_Sign_Dataset folder in personal Google Drive under a Datasets folder"
   ]
  }
 ],
 "metadata": {
  "kernelspec": {
   "display_name": "Python 3 (ipykernel)",
   "language": "python",
   "name": "python3"
  },
  "language_info": {
   "codemirror_mode": {
    "name": "ipython",
    "version": 3
   },
   "file_extension": ".py",
   "mimetype": "text/x-python",
   "name": "python",
   "nbconvert_exporter": "python",
   "pygments_lexer": "ipython3",
   "version": "3.7.4"
  }
 },
 "nbformat": 4,
 "nbformat_minor": 5
}
