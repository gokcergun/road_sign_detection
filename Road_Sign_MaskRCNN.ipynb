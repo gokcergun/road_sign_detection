{
  "cells": [
    {
      "cell_type": "markdown",
      "metadata": {
        "id": "view-in-github",
        "colab_type": "text"
      },
      "source": [
        "<a href=\"https://colab.research.google.com/github/gokcergun/road_sign_detection/blob/main/Road_Sign_MaskRCNN.ipynb\" target=\"_parent\"><img src=\"https://colab.research.google.com/assets/colab-badge.svg\" alt=\"Open In Colab\"/></a>"
      ]
    },
    {
      "cell_type": "markdown",
      "metadata": {
        "id": "5ukrA6bbDnPa"
      },
      "source": [
        "For MaskRCNN we will use MMDetection implmentation.\n",
        "<a href=\"https://github.com/open-mmlab/mmdetection\">MMDetection</a> is an open source object detection toolbox based on PyTorch. It is a part of <a href=\"https://openmmlab.com\">OpenMMLab</a> consists of more than 100 pre-trained models to use for fine-tuning for object detection and instance segmentation tasks. "
      ]
    },
    {
      "cell_type": "markdown",
      "metadata": {
        "id": "_5bAWj65EjZO"
      },
      "source": [
        "# 1. Set-up\n"
      ]
    },
    {
      "cell_type": "markdown",
      "metadata": {
        "id": "DxSy1nU7E_TR"
      },
      "source": [
        "### Connect GoogleDrive\n",
        "Data_path: \"/content/drive/MyDrive/Datasets/data_sign_coco\""
      ]
    },
    {
      "cell_type": "code",
      "execution_count": 1,
      "metadata": {
        "colab": {
          "base_uri": "https://localhost:8080/"
        },
        "id": "xXH7rpuOGtrX",
        "outputId": "0c1431ce-da3e-44e1-ec2f-ada32e2f179b"
      },
      "outputs": [
        {
          "output_type": "stream",
          "name": "stdout",
          "text": [
            "Mounted at /content/drive/\n"
          ]
        }
      ],
      "source": [
        "from google.colab import drive\n",
        "drive.mount('/content/drive/')"
      ]
    },
    {
      "cell_type": "markdown",
      "metadata": {
        "id": "1tmnkduDGun7"
      },
      "source": [
        "### Install MMDetection"
      ]
    },
    {
      "cell_type": "code",
      "execution_count": 2,
      "metadata": {
        "colab": {
          "base_uri": "https://localhost:8080/"
        },
        "id": "V3BcXYASD9dO",
        "outputId": "6ac73a3d-4387-427d-98dc-6c40769a52a3"
      },
      "outputs": [
        {
          "output_type": "stream",
          "name": "stdout",
          "text": [
            "nvcc: NVIDIA (R) Cuda compiler driver\n",
            "Copyright (c) 2005-2020 NVIDIA Corporation\n",
            "Built on Mon_Oct_12_20:09:46_PDT_2020\n",
            "Cuda compilation tools, release 11.1, V11.1.105\n",
            "Build cuda_11.1.TC455_06.29190527_0\n",
            "gcc (Ubuntu 7.5.0-3ubuntu1~18.04) 7.5.0\n",
            "Copyright (C) 2017 Free Software Foundation, Inc.\n",
            "This is free software; see the source for copying conditions.  There is NO\n",
            "warranty; not even for MERCHANTABILITY or FITNESS FOR A PARTICULAR PURPOSE.\n",
            "\n"
          ]
        }
      ],
      "source": [
        "# Check GPU setting of GoogleColabs\n",
        "# Check nvcc version\n",
        "!nvcc -V\n",
        "# Check GCC version\n",
        "!gcc --version"
      ]
    },
    {
      "cell_type": "code",
      "execution_count": null,
      "metadata": {
        "colab": {
          "base_uri": "https://localhost:8080/"
        },
        "id": "fY-Z3eH_E1pz",
        "outputId": "37a967cf-1b82-4e94-e028-3fa7cac3e5ab"
      },
      "outputs": [
        {
          "output_type": "stream",
          "name": "stdout",
          "text": [
            "Looking in links: https://download.pytorch.org/whl/torch_stable.html\n",
            "Collecting torch==1.5.1+cu101\n",
            "  Downloading https://download.pytorch.org/whl/cu101/torch-1.5.1%2Bcu101-cp37-cp37m-linux_x86_64.whl (704.4 MB)\n",
            "\u001b[K     |████████████████████████████████| 704.4 MB 1.3 kB/s \n",
            "\u001b[?25hCollecting torchvision==0.6.1+cu101\n",
            "  Downloading https://download.pytorch.org/whl/cu101/torchvision-0.6.1%2Bcu101-cp37-cp37m-linux_x86_64.whl (6.6 MB)\n",
            "\u001b[K     |████████████████████████████████| 6.6 MB 1.7 MB/s \n",
            "\u001b[?25hRequirement already satisfied: numpy in /usr/local/lib/python3.7/dist-packages (from torch==1.5.1+cu101) (1.19.5)\n",
            "Requirement already satisfied: future in /usr/local/lib/python3.7/dist-packages (from torch==1.5.1+cu101) (0.16.0)\n",
            "Requirement already satisfied: pillow>=4.1.1 in /usr/local/lib/python3.7/dist-packages (from torchvision==0.6.1+cu101) (7.1.2)\n",
            "Installing collected packages: torch, torchvision\n",
            "  Attempting uninstall: torch\n",
            "    Found existing installation: torch 1.10.0+cu111\n",
            "    Uninstalling torch-1.10.0+cu111:\n",
            "      Successfully uninstalled torch-1.10.0+cu111\n",
            "  Attempting uninstall: torchvision\n",
            "    Found existing installation: torchvision 0.11.1+cu111\n",
            "    Uninstalling torchvision-0.11.1+cu111:\n",
            "      Successfully uninstalled torchvision-0.11.1+cu111\n",
            "\u001b[31mERROR: pip's dependency resolver does not currently take into account all the packages that are installed. This behaviour is the source of the following dependency conflicts.\n",
            "torchtext 0.11.0 requires torch==1.10.0, but you have torch 1.5.1+cu101 which is incompatible.\n",
            "torchaudio 0.10.0+cu111 requires torch==1.10.0, but you have torch 1.5.1+cu101 which is incompatible.\u001b[0m\n",
            "Successfully installed torch-1.5.1+cu101 torchvision-0.6.1+cu101\n",
            "Collecting mmcv-full\n",
            "  Downloading mmcv-full-1.4.3.tar.gz (416 kB)\n",
            "\u001b[K     |████████████████████████████████| 416 kB 4.1 MB/s \n",
            "\u001b[?25hCollecting addict\n",
            "  Downloading addict-2.4.0-py3-none-any.whl (3.8 kB)\n",
            "Requirement already satisfied: numpy in /usr/local/lib/python3.7/dist-packages (from mmcv-full) (1.19.5)\n",
            "Requirement already satisfied: packaging in /usr/local/lib/python3.7/dist-packages (from mmcv-full) (21.3)\n",
            "Requirement already satisfied: Pillow in /usr/local/lib/python3.7/dist-packages (from mmcv-full) (7.1.2)\n",
            "Requirement already satisfied: pyyaml in /usr/local/lib/python3.7/dist-packages (from mmcv-full) (3.13)\n",
            "Collecting yapf\n",
            "  Downloading yapf-0.32.0-py2.py3-none-any.whl (190 kB)\n",
            "\u001b[K     |████████████████████████████████| 190 kB 33.9 MB/s \n",
            "\u001b[?25hRequirement already satisfied: pyparsing!=3.0.5,>=2.0.2 in /usr/local/lib/python3.7/dist-packages (from packaging->mmcv-full) (3.0.6)\n",
            "Building wheels for collected packages: mmcv-full\n"
          ]
        }
      ],
      "source": [
        "# install dependencies: (use cu101 because colab has CUDA 10.1)\n",
        "!pip install -U torch==1.5.1+cu101 torchvision==0.6.1+cu101 -f https://download.pytorch.org/whl/torch_stable.html\n",
        "\n",
        "# install mmcv-full thus we could use CUDA operators\n",
        "!pip install mmcv-full\n",
        "\n",
        "# Install mmdetection\n",
        "!rm -rf mmdetection\n",
        "!git clone https://github.com/open-mmlab/mmdetection.git\n",
        "%cd mmdetection\n",
        "\n",
        "!pip install -e .\n",
        "\n",
        "# install Pillow 7.0.0 back in order to avoid bug in colab\n",
        "!pip install Pillow==7.0.0"
      ]
    },
    {
      "cell_type": "code",
      "execution_count": null,
      "metadata": {
        "colab": {
          "background_save": true
        },
        "id": "YTI_s_PKE2sb",
        "outputId": "d37d8c25-9a4f-4ca3-cf48-1e8445c0f26d"
      },
      "outputs": [
        {
          "name": "stdout",
          "output_type": "stream",
          "text": [
            "1.5.1+cu101 False\n",
            "No CUDA runtime is found, using CUDA_HOME='/usr/local/cuda'\n",
            "2.20.0\n",
            "not available\n",
            "GCC 7.5\n"
          ]
        }
      ],
      "source": [
        "# Check Pytorch installation\n",
        "import torch, torchvision\n",
        "print(torch.__version__, torch.cuda.is_available())\n",
        "\n",
        "# Check MMDetection installation\n",
        "import mmdet\n",
        "print(mmdet.__version__)\n",
        "\n",
        "# Check mmcv installation\n",
        "from mmcv.ops import get_compiling_cuda_version, get_compiler_version\n",
        "print(get_compiling_cuda_version())\n",
        "print(get_compiler_version())"
      ]
    },
    {
      "cell_type": "code",
      "execution_count": null,
      "metadata": {
        "colab": {
          "background_save": true
        },
        "id": "IlOoRt17PyeX",
        "outputId": "0bb0ee87-0673-4350-e5db-3617e76d26e2"
      },
      "outputs": [
        {
          "name": "stdout",
          "output_type": "stream",
          "text": [
            "1.5.1+cu101 False\n",
            "2.20.0\n",
            "not available\n",
            "GCC 7.5\n"
          ]
        }
      ],
      "source": [
        "# Check Pytorch installation\n",
        "import torch, torchvision\n",
        "print(torch.__version__, torch.cuda.is_available())\n",
        "\n",
        "# Check MMDetection installation\n",
        "import mmdet\n",
        "print(mmdet.__version__)\n",
        "\n",
        "# Check mmcv installation\n",
        "from mmcv.ops import get_compiling_cuda_version, get_compiler_version\n",
        "print(get_compiling_cuda_version())\n",
        "print(get_compiler_version())"
      ]
    },
    {
      "cell_type": "markdown",
      "metadata": {
        "id": "gxI6rck3QKtX"
      },
      "source": [
        "## Data Format\n",
        "MMDetection library requires the annotations as json files in COCO format with the following necessary keys:\n",
        "```\n",
        "'images': [\n",
        "    {\n",
        "        'file_name': 'COCO_val2014_000000001268.jpg',\n",
        "        'height': 427,\n",
        "        'width': 640,\n",
        "        'id': 1268\n",
        "    },\n",
        "    ...\n",
        "],\n",
        "\n",
        "'annotations': [\n",
        "    {\n",
        "        'segmentation': [[192.81,\n",
        "            247.09,\n",
        "            ...\n",
        "            219.03,\n",
        "            249.06]],  # if you have mask labels\n",
        "        'area': 1035.749,\n",
        "        'iscrowd': 0,\n",
        "        'image_id': 1268,\n",
        "        'bbox': [192.81, 224.8, 74.73, 33.43],\n",
        "        'category_id': 16,\n",
        "        'id': 42986\n",
        "    },\n",
        "    ...\n",
        "],\n",
        "\n",
        "'categories': [\n",
        "    {'id': 0, 'name': 'car'},\n",
        " ]\n",
        "```\n",
        "\n",
        "\n"
      ]
    },
    {
      "cell_type": "markdown",
      "metadata": {
        "id": "0Xy256IZSLt6"
      },
      "source": [
        "## RoadSignDataset  \n",
        "We first converted our dataset to COCO format using <a href=https://roboflow.com/formats/coco-json>Roboflow</a>. We used the same train, test, validation split that was used in Yolov5 model. \n",
        "\n",
        "We have train, test, validation folders. Each involves the images in jpg format and a json file for annotations. "
      ]
    },
    {
      "cell_type": "code",
      "execution_count": null,
      "metadata": {
        "colab": {
          "background_save": true
        },
        "id": "a5iCD3UwUiqC",
        "outputId": "31258e36-eddc-4cbe-beeb-030a9122bf84"
      },
      "outputs": [
        {
          "data": {
            "text/plain": [
              "['annotations', 'test_data', 'train_data', 'val_data', 'results']"
            ]
          },
          "execution_count": null,
          "metadata": {},
          "output_type": "execute_result"
        }
      ],
      "source": [
        "import os \n",
        "os.listdir(\"/content/drive/MyDrive/Datasets/data_sign_coco\")"
      ]
    },
    {
      "cell_type": "code",
      "execution_count": null,
      "metadata": {
        "id": "DmnPElFoQJ2i"
      },
      "outputs": [],
      "source": [
        "# read json file within train folder\n",
        "import json\n",
        "#read json files\n",
        "open_file = open(\"/content/drive/MyDrive/Datasets/data_sign_coco/annotations/instances_train.json\")\n",
        "annotations_train = json.load(open_file)\n",
        "open_file.close()"
      ]
    },
    {
      "cell_type": "code",
      "execution_count": null,
      "metadata": {
        "colab": {
          "base_uri": "https://localhost:8080/"
        },
        "id": "RHGvdq1pWtOA",
        "outputId": "bd65ccb4-a23b-4db0-ec64-92af4f914f04"
      },
      "outputs": [
        {
          "name": "stdout",
          "output_type": "stream",
          "text": [
            "annotation keys: dict_keys(['info', 'licenses', 'categories', 'images', 'annotations'])\n",
            "images example: {'id': 0, 'license': 1, 'file_name': 'road376_png.rf.5a4e06e629169a0a8f300240e7a54d1d.jpg', 'height': 416, 'width': 416, 'date_captured': '2022-01-08T00:16:02+00:00'}\n",
            "annotations example: {'id': 0, 'image_id': 0, 'category_id': 2, 'bbox': [54, 201, 134.5, 100], 'area': 13450, 'segmentation': [], 'iscrowd': 0}\n",
            "categories example: [{'id': 0, 'name': 'road-signs', 'supercategory': 'none'}, {'id': 1, 'name': 'crosswalk', 'supercategory': 'road-signs'}, {'id': 2, 'name': 'speedlimit', 'supercategory': 'road-signs'}, {'id': 3, 'name': 'stop', 'supercategory': 'road-signs'}, {'id': 4, 'name': 'trafficlight', 'supercategory': 'road-signs'}]\n"
          ]
        }
      ],
      "source": [
        "print(\"annotation keys:\", annotations_train.keys())\n",
        "print(\"images example:\", annotations_train[\"images\"][0])\n",
        "print(\"annotations example:\", annotations_train[\"annotations\"][0])\n",
        "print(\"categories example:\", annotations_train[\"categories\"])"
      ]
    },
    {
      "cell_type": "code",
      "execution_count": null,
      "metadata": {
        "id": "KW2iwWKLz1ca"
      },
      "outputs": [],
      "source": [
        ""
      ]
    },
    {
      "cell_type": "markdown",
      "metadata": {
        "id": "ziluaWTbXKX7"
      },
      "source": [
        "## Modify Config\n",
        "In the next step, we need to modify the config for the training. To accelerate the process, we finetune a detector using a pre-trained detector."
      ]
    },
    {
      "cell_type": "code",
      "execution_count": null,
      "metadata": {
        "colab": {
          "base_uri": "https://localhost:8080/",
          "height": 35
        },
        "id": "Ae1zPDl0XTfg",
        "outputId": "28e1cf66-5122-4630-f09a-4ed2b76fbcb1"
      },
      "outputs": [
        {
          "data": {
            "application/vnd.google.colaboratory.intrinsic+json": {
              "type": "string"
            },
            "text/plain": [
              "'/content/mmdetection'"
            ]
          },
          "execution_count": 10,
          "metadata": {},
          "output_type": "execute_result"
        }
      ],
      "source": [
        "os.getcwd()"
      ]
    },
    {
      "cell_type": "code",
      "execution_count": null,
      "metadata": {
        "colab": {
          "base_uri": "https://localhost:8080/"
        },
        "id": "YqWc_i8fwFNG",
        "outputId": "d4065535-9b4b-4fa8-cb2d-894a9f695db8"
      },
      "outputs": [
        {
          "data": {
            "text/plain": [
              "['mask_rcnn_x101_32x8d_fpn_1x_coco.py',\n",
              " 'mask_rcnn_r50_fpn_poly_1x_coco.py',\n",
              " 'mask_rcnn_r101_caffe_fpn_1x_coco.py',\n",
              " 'mask_rcnn_x101_64x4d_fpn_mstrain-poly_3x_coco.py',\n",
              " 'mask_rcnn_x101_32x4d_fpn_mstrain-poly_3x_coco.py',\n",
              " 'README.md',\n",
              " 'mask_rcnn_r50_fpn_2x_coco.py',\n",
              " 'mask_rcnn_r50_caffe_fpn_1x_coco.py',\n",
              " 'mask_rcnn_r50_caffe_fpn_mstrain_1x_coco.py',\n",
              " 'mask_rcnn_x101_32x8d_fpn_mstrain-poly_1x_coco.py',\n",
              " 'mask_rcnn_x101_32x8d_fpn_mstrain-poly_3x_coco.py',\n",
              " 'mask_rcnn_x101_32x4d_fpn_2x_coco.py',\n",
              " 'mask_rcnn_r50_caffe_fpn_mstrain-poly_1x_coco.py',\n",
              " 'mask_rcnn_r101_fpn_mstrain-poly_3x_coco.py',\n",
              " 'mask_rcnn_r50_caffe_fpn_mstrain-poly_2x_coco.py',\n",
              " 'mask_rcnn_r50_caffe_fpn_mstrain-poly_3x_coco.py',\n",
              " 'metafile.yml',\n",
              " 'mask_rcnn_r50_caffe_c4_1x_coco.py',\n",
              " 'mask_rcnn_r101_fpn_2x_coco.py',\n",
              " 'mask_rcnn_x101_32x4d_fpn_1x_coco.py',\n",
              " 'mask_rcnn_r50_fpn_fp16_1x_coco.py',\n",
              " 'mask_rcnn_r50_caffe_fpn_poly_1x_coco_v1.py',\n",
              " 'mask_rcnn_r101_caffe_fpn_mstrain-poly_3x_coco.py',\n",
              " 'mask_rcnn_r50_fpn_mstrain-poly_3x_coco.py',\n",
              " 'mask_rcnn_r50_fpn_1x_coco.py',\n",
              " 'mask_rcnn_x101_64x4d_fpn_1x_coco.py',\n",
              " 'mask_rcnn_x101_64x4d_fpn_2x_coco.py',\n",
              " 'mask_rcnn_r101_fpn_1x_coco.py']"
            ]
          },
          "execution_count": 40,
          "metadata": {},
          "output_type": "execute_result"
        }
      ],
      "source": [
        "os.listdir(\"./configs/mask_rcnn\") # we will use mask_rcnn_r101_fpn_1x_coco.py"
      ]
    },
    {
      "cell_type": "code",
      "execution_count": null,
      "metadata": {
        "id": "hamZrlnH-YDD"
      },
      "outputs": [],
      "source": [
        "from mmcv import Config\n",
        "cfg = Config.fromfile('./configs/mask_rcnn/mask_rcnn_r101_fpn_1x_coco.py')"
      ]
    },
    {
      "cell_type": "code",
      "execution_count": null,
      "metadata": {
        "colab": {
          "base_uri": "https://localhost:8080/"
        },
        "id": "Elm35Fmp4T45",
        "outputId": "b47527d8-7648-46e3-ec0c-296dbca484c6"
      },
      "outputs": [
        {
          "name": "stdout",
          "output_type": "stream",
          "text": [
            "dict_keys(['model', 'dataset_type', 'data_root', 'img_norm_cfg', 'train_pipeline', 'test_pipeline', 'data', 'evaluation', 'optimizer', 'optimizer_config', 'lr_config', 'runner', 'checkpoint_config', 'log_config', 'custom_hooks', 'dist_params', 'log_level', 'load_from', 'resume_from', 'workflow'])\n",
            "data/coco/\n",
            "data/coco/annotations/instances_train2017.json\n",
            "data/coco/train2017/\n",
            "data/coco/annotations/instances_val2017.json\n",
            "data/coco/val2017/\n",
            "data/coco/annotations/instances_val2017.json\n",
            "data/coco/val2017/\n",
            "80\n",
            "80\n"
          ]
        }
      ],
      "source": [
        "print(cfg.keys())\n",
        "print(cfg.data_root)\n",
        "print(cfg.data.train.ann_file)\n",
        "print(cfg.data.train.img_prefix)\n",
        "print(cfg.data.val.ann_file)\n",
        "print(cfg.data.val.img_prefix) \n",
        "print(cfg.data.test.ann_file) \n",
        "print(cfg.data.test.img_prefix)\n",
        "print(cfg.model.roi_head.bbox_head.num_classes)\n",
        "print(cfg.model.roi_head.mask_head.num_classes)"
      ]
    },
    {
      "cell_type": "code",
      "execution_count": null,
      "metadata": {
        "colab": {
          "base_uri": "https://localhost:8080/",
          "height": 374
        },
        "id": "e66YjUBWO8Xb",
        "outputId": "2b02c559-3278-4754-e075-d1d6a7cf6172"
      },
      "outputs": [
        {
          "ename": "ModuleNotFoundError",
          "evalue": "ignored",
          "output_type": "error",
          "traceback": [
            "\u001b[0;31m---------------------------------------------------------------------------\u001b[0m",
            "\u001b[0;31mModuleNotFoundError\u001b[0m                       Traceback (most recent call last)",
            "\u001b[0;32m<ipython-input-1-d4b293da53af>\u001b[0m in \u001b[0;36m<module>\u001b[0;34m()\u001b[0m\n\u001b[0;32m----> 1\u001b[0;31m \u001b[0;32mfrom\u001b[0m \u001b[0mmmdet\u001b[0m\u001b[0;34m.\u001b[0m\u001b[0mapis\u001b[0m \u001b[0;32mimport\u001b[0m \u001b[0mset_random_seed\u001b[0m\u001b[0;34m\u001b[0m\u001b[0;34m\u001b[0m\u001b[0m\n\u001b[0m\u001b[1;32m      2\u001b[0m \u001b[0;34m\u001b[0m\u001b[0m\n\u001b[1;32m      3\u001b[0m \u001b[0mcfg\u001b[0m\u001b[0;34m[\u001b[0m\u001b[0;34m\"classes\"\u001b[0m\u001b[0;34m]\u001b[0m \u001b[0;34m=\u001b[0m \u001b[0;34m(\u001b[0m\u001b[0;34m\"road-signs\"\u001b[0m\u001b[0;34m,\u001b[0m \u001b[0;34m\"crosswalk\"\u001b[0m\u001b[0;34m,\u001b[0m \u001b[0;34m\"speedlimit\"\u001b[0m\u001b[0;34m,\u001b[0m \u001b[0;34m\"stop\"\u001b[0m\u001b[0;34m,\u001b[0m \u001b[0;34m\"trafficlight\"\u001b[0m\u001b[0;34m)\u001b[0m\u001b[0;34m\u001b[0m\u001b[0;34m\u001b[0m\u001b[0m\n\u001b[1;32m      4\u001b[0m \u001b[0;31m# define the data root\u001b[0m\u001b[0;34m\u001b[0m\u001b[0;34m\u001b[0m\u001b[0;34m\u001b[0m\u001b[0m\n\u001b[1;32m      5\u001b[0m \u001b[0mcfg\u001b[0m\u001b[0;34m.\u001b[0m\u001b[0mdata_root\u001b[0m \u001b[0;34m=\u001b[0m \u001b[0;34m\"/content/drive/MyDrive/Datasets/data_sign_coco/\"\u001b[0m\u001b[0;34m\u001b[0m\u001b[0;34m\u001b[0m\u001b[0m\n",
            "\u001b[0;31mModuleNotFoundError\u001b[0m: No module named 'mmdet'",
            "",
            "\u001b[0;31m---------------------------------------------------------------------------\u001b[0;32m\nNOTE: If your import is failing due to a missing package, you can\nmanually install dependencies using either !pip or !apt.\n\nTo view examples of installing some common dependencies, click the\n\"Open Examples\" button below.\n\u001b[0;31m---------------------------------------------------------------------------\u001b[0m\n"
          ]
        }
      ],
      "source": [
        "from mmdet.apis import set_random_seed\n",
        "\n",
        "cfg[\"classes\"] = (\"road-signs\", \"crosswalk\", \"speedlimit\", \"stop\", \"trafficlight\")\n",
        "# define the data root\n",
        "cfg.data_root = \"/content/drive/MyDrive/Datasets/data_sign_coco/\"\n",
        "# define paths for train images and annotations\n",
        "cfg.data.train.ann_file = '/content/drive/MyDrive/Datasets/data_sign_coco/annotations/instances_train.json'\n",
        "cfg.data.train.img_prefix = '/content/drive/MyDrive/Datasets/data_sign_coco/train_data/'\n",
        "# define paths for validation images and annotations\n",
        "cfg.data.val.ann_file = '/content/drive/MyDrive/Datasets/data_sign_coco/annotations/instances_val.json'\n",
        "cfg.data.val.img_prefix = '/content/drive/MyDrive/Datasets/data_sign_coco/val_data/'\n",
        "# define paths for test images and annotations\n",
        "cfg.data.test.ann_file = '/content/drive/MyDrive/Datasets/data_sign_coco/annotations/instances_test.json'\n",
        "cfg.data.test.img_prefix = '/content/drive/MyDrive/Datasets/data_sign_coco/test_data/'\n",
        "\n",
        "# change number of classes to 5 (default is 80)\n",
        "cfg.model.roi_head.bbox_head.num_classes = 5\n",
        "cfg.model.roi_head.mask_head.num_classes = 5\n",
        "\n",
        "# load pre-trained model\n",
        "cfg.load_from = 'https://download.openmmlab.com/mmdetection/v2.0/mask_rcnn/mask_rcnn_r101_fpn_mstrain-poly_3x_coco/mask_rcnn_r101_fpn_mstrain-poly_3x_coco_20210524_200244-5675c317.pth'\n",
        "\n",
        "# Set up working dir to save files and logs.\n",
        "cfg.work_dir = '/content/drive/MyDrive/Datasets/data_sign_coco/results'\n",
        "\n",
        "# The original learning rate (LR) is set for 8-GPU training.\n",
        "# We divide it by 8 since we only use one GPU.\n",
        "cfg.optimizer.lr = 0.02 / 8\n",
        "cfg.lr_config.warmup = None\n",
        "cfg.log_config.interval = 10\n",
        "\n",
        "# Change the evaluation metric since we use customized dataset.\n",
        "cfg.evaluation.metric = 'mAP'\n",
        "\n",
        "# Set seed thus the results are more reproducible\n",
        "cfg.seed = 0\n",
        "set_random_seed(0, deterministic=False)\n",
        "cfg.gpu_ids = range(1)\n",
        "\n",
        "# We can initialize the logger for training and have a look\n",
        "# at the final config used for training\n",
        "print(f'Config:\\n{cfg.pretty_text}')\n"
      ]
    },
    {
      "cell_type": "code",
      "execution_count": null,
      "metadata": {
        "colab": {
          "base_uri": "https://localhost:8080/"
        },
        "id": "oZcxbKwft9MB",
        "outputId": "7b21228a-0e39-4f11-f303-19a740c6b65a"
      },
      "outputs": [
        {
          "data": {
            "text/plain": [
              "{'samples_per_gpu': 2,\n",
              " 'test': {'ann_file': '/content/drive/MyDrive/Datasets/data_sign_coco/annotations/instances_test.json',\n",
              "  'img_prefix': '/content/drive/MyDrive/Datasets/data_sign_coco/test_data/',\n",
              "  'pipeline': [{'type': 'LoadImageFromFile'},\n",
              "   {'flip': False,\n",
              "    'img_scale': (1333, 800),\n",
              "    'transforms': [{'keep_ratio': True, 'type': 'Resize'},\n",
              "     {'type': 'RandomFlip'},\n",
              "     {'mean': [123.675, 116.28, 103.53],\n",
              "      'std': [58.395, 57.12, 57.375],\n",
              "      'to_rgb': True,\n",
              "      'type': 'Normalize'},\n",
              "     {'size_divisor': 32, 'type': 'Pad'},\n",
              "     {'keys': ['img'], 'type': 'ImageToTensor'},\n",
              "     {'keys': ['img'], 'type': 'Collect'}],\n",
              "    'type': 'MultiScaleFlipAug'}],\n",
              "  'type': 'CocoDataset'},\n",
              " 'train': {'ann_file': '/content/drive/MyDrive/Datasets/data_sign_coco/annotations/instances_train.json',\n",
              "  'img_prefix': '/content/drive/MyDrive/Datasets/data_sign_coco/train_data/',\n",
              "  'pipeline': [{'type': 'LoadImageFromFile'},\n",
              "   {'type': 'LoadAnnotations', 'with_bbox': True, 'with_mask': True},\n",
              "   {'img_scale': (1333, 800), 'keep_ratio': True, 'type': 'Resize'},\n",
              "   {'flip_ratio': 0.5, 'type': 'RandomFlip'},\n",
              "   {'mean': [123.675, 116.28, 103.53],\n",
              "    'std': [58.395, 57.12, 57.375],\n",
              "    'to_rgb': True,\n",
              "    'type': 'Normalize'},\n",
              "   {'size_divisor': 32, 'type': 'Pad'},\n",
              "   {'type': 'DefaultFormatBundle'},\n",
              "   {'keys': ['img', 'gt_bboxes', 'gt_labels', 'gt_masks'], 'type': 'Collect'}],\n",
              "  'type': 'CocoDataset'},\n",
              " 'val': {'ann_file': '/content/drive/MyDrive/Datasets/data_sign_coco/annotations/instances_val.json',\n",
              "  'img_prefix': '/content/drive/MyDrive/Datasets/data_sign_coco/val_data/',\n",
              "  'pipeline': [{'type': 'LoadImageFromFile'},\n",
              "   {'flip': False,\n",
              "    'img_scale': (1333, 800),\n",
              "    'transforms': [{'keep_ratio': True, 'type': 'Resize'},\n",
              "     {'type': 'RandomFlip'},\n",
              "     {'mean': [123.675, 116.28, 103.53],\n",
              "      'std': [58.395, 57.12, 57.375],\n",
              "      'to_rgb': True,\n",
              "      'type': 'Normalize'},\n",
              "     {'size_divisor': 32, 'type': 'Pad'},\n",
              "     {'keys': ['img'], 'type': 'ImageToTensor'},\n",
              "     {'keys': ['img'], 'type': 'Collect'}],\n",
              "    'type': 'MultiScaleFlipAug'}],\n",
              "  'type': 'CocoDataset'},\n",
              " 'workers_per_gpu': 2}"
            ]
          },
          "execution_count": 46,
          "metadata": {},
          "output_type": "execute_result"
        }
      ],
      "source": [
        "cfg.data"
      ]
    },
    {
      "cell_type": "code",
      "execution_count": null,
      "metadata": {
        "colab": {
          "base_uri": "https://localhost:8080/",
          "height": 200
        },
        "id": "UUDHLWm3sQLf",
        "outputId": "38eb1f4a-1d5a-4254-bc3f-bb3b58380679"
      },
      "outputs": [
        {
          "ename": "TypeError",
          "evalue": "ignored",
          "output_type": "error",
          "traceback": [
            "\u001b[0;31m---------------------------------------------------------------------------\u001b[0m",
            "\u001b[0;31mTypeError\u001b[0m                                 Traceback (most recent call last)",
            "\u001b[0;32m<ipython-input-44-b2c372c7da99>\u001b[0m in \u001b[0;36m<module>\u001b[0;34m()\u001b[0m\n\u001b[1;32m      1\u001b[0m \u001b[0mfname\u001b[0m \u001b[0;34m=\u001b[0m \u001b[0;34m'./configs/mask_rcnn/customized_config.py'\u001b[0m\u001b[0;34m\u001b[0m\u001b[0;34m\u001b[0m\u001b[0m\n\u001b[1;32m      2\u001b[0m \u001b[0;32mwith\u001b[0m \u001b[0mopen\u001b[0m\u001b[0;34m(\u001b[0m\u001b[0mfname\u001b[0m\u001b[0;34m,\u001b[0m \u001b[0;34m'w'\u001b[0m\u001b[0;34m)\u001b[0m \u001b[0;32mas\u001b[0m \u001b[0mf\u001b[0m\u001b[0;34m:\u001b[0m\u001b[0;34m\u001b[0m\u001b[0;34m\u001b[0m\u001b[0m\n\u001b[0;32m----> 3\u001b[0;31m     \u001b[0mf\u001b[0m\u001b[0;34m.\u001b[0m\u001b[0mwrite\u001b[0m\u001b[0;34m(\u001b[0m\u001b[0mcfg\u001b[0m\u001b[0;34m)\u001b[0m\u001b[0;34m\u001b[0m\u001b[0;34m\u001b[0m\u001b[0m\n\u001b[0m",
            "\u001b[0;31mTypeError\u001b[0m: write() argument must be str, not Config"
          ]
        }
      ],
      "source": [
        "fname = './configs/mask_rcnn/customized_config.py'\n",
        "with open(fname, 'w') as f:\n",
        "    f.write(cfg)"
      ]
    },
    {
      "cell_type": "code",
      "execution_count": null,
      "metadata": {
        "colab": {
          "base_uri": "https://localhost:8080/"
        },
        "id": "aPAeVPlcOYfU",
        "outputId": "1023a45e-06dd-4853-f222-d0dd3ecd99af"
      },
      "outputs": [
        {
          "name": "stdout",
          "output_type": "stream",
          "text": [
            "dict_keys(['model', 'dataset_type', 'data_root', 'img_norm_cfg', 'train_pipeline', 'test_pipeline', 'data', 'evaluation', 'optimizer', 'optimizer_config', 'lr_config', 'runner', 'checkpoint_config', 'log_config', 'custom_hooks', 'dist_params', 'log_level', 'load_from', 'resume_from', 'workflow', 'classes', 'work_dir', 'seed', 'gpu_ids'])\n",
            "/content/drive/MyDrive/Datasets/data_sign_coco/\n",
            "/content/drive/MyDrive/Datasets/data_sign_coco/annotations/instances_train.json\n",
            "/content/drive/MyDrive/Datasets/data_sign_coco/train_data/\n",
            "/content/drive/MyDrive/Datasets/data_sign_coco/annotations/instances_val.json\n",
            "/content/drive/MyDrive/Datasets/data_sign_coco/val_data/\n",
            "/content/drive/MyDrive/Datasets/data_sign_coco/annotations/instances_test.json\n",
            "/content/drive/MyDrive/Datasets/data_sign_coco/test_data/\n",
            "5\n",
            "5\n"
          ]
        }
      ],
      "source": [
        "print(cfg.keys())\n",
        "print(cfg.data_root)\n",
        "print(cfg.data.train.ann_file)\n",
        "print(cfg.data.train.img_prefix)\n",
        "print(cfg.data.val.ann_file)\n",
        "print(cfg.data.val.img_prefix) \n",
        "print(cfg.data.test.ann_file)\n",
        "print(cfg.data.test.img_prefix)\n",
        "print(cfg.model.roi_head.bbox_head.num_classes)\n",
        "print(cfg.model.roi_head.mask_head.num_classes)"
      ]
    },
    {
      "cell_type": "code",
      "execution_count": null,
      "metadata": {
        "colab": {
          "base_uri": "https://localhost:8080/"
        },
        "id": "Jt1Xqhy6jRXk",
        "outputId": "7abf2016-390f-4960-d921-ca0814a8c4d4"
      },
      "outputs": [
        {
          "data": {
            "text/plain": [
              "{'checkpoint': 'torchvision://resnet101', 'type': 'Pretrained'}"
            ]
          },
          "execution_count": 16,
          "metadata": {},
          "output_type": "execute_result"
        }
      ],
      "source": [
        "cfg.model.backbone.init_cfg"
      ]
    },
    {
      "cell_type": "markdown",
      "metadata": {
        "id": "yOgwLEOHb9gF"
      },
      "source": [
        "# Train new detector - with pre-trained model"
      ]
    },
    {
      "cell_type": "code",
      "execution_count": null,
      "metadata": {
        "colab": {
          "base_uri": "https://localhost:8080/"
        },
        "id": "6P3fUAJomCGn",
        "outputId": "57d2c10b-81b2-4f0e-955d-cb455164b9cb"
      },
      "outputs": [
        {
          "name": "stdout",
          "output_type": "stream",
          "text": [
            "Traceback (most recent call last):\n",
            "  File \"./tools/train.py\", line 196, in <module>\n",
            "    main()\n",
            "  File \"./tools/train.py\", line 94, in main\n",
            "    cfg = Config.fromfile(args.config)\n",
            "  File \"/usr/local/lib/python3.7/dist-packages/mmcv/utils/config.py\", line 335, in fromfile\n",
            "    use_predefined_variables)\n",
            "  File \"/usr/local/lib/python3.7/dist-packages/mmcv/utils/config.py\", line 181, in _file2dict\n",
            "    check_file_exist(filename)\n",
            "  File \"/usr/local/lib/python3.7/dist-packages/mmcv/utils/path.py\", line 23, in check_file_exist\n",
            "    raise FileNotFoundError(msg_tmpl.format(filename))\n",
            "FileNotFoundError: file \"/content/mmdetection/cfg.model\" does not exist\n"
          ]
        }
      ],
      "source": [
        "!python ./tools/train.py cfg.model"
      ]
    },
    {
      "cell_type": "code",
      "execution_count": null,
      "metadata": {
        "colab": {
          "base_uri": "https://localhost:8080/"
        },
        "id": "7p_mxEqfpB7V",
        "outputId": "1f55fdd7-4ee7-48b5-9daf-6787a4adc1fc"
      },
      "outputs": [
        {
          "data": {
            "text/plain": [
              "dict_keys(['model', 'dataset_type', 'data_root', 'img_norm_cfg', 'train_pipeline', 'test_pipeline', 'data', 'evaluation', 'optimizer', 'optimizer_config', 'lr_config', 'runner', 'checkpoint_config', 'log_config', 'custom_hooks', 'dist_params', 'log_level', 'load_from', 'resume_from', 'workflow', 'classes', 'work_dir', 'seed', 'gpu_ids'])"
            ]
          },
          "execution_count": 31,
          "metadata": {},
          "output_type": "execute_result"
        }
      ],
      "source": [
        "cfg.keys()"
      ]
    },
    {
      "cell_type": "code",
      "execution_count": null,
      "metadata": {
        "colab": {
          "base_uri": "https://localhost:8080/",
          "height": 502
        },
        "id": "rbPdsr9q_y28",
        "outputId": "adb23842-e692-4922-cc92-69b94288aeb0"
      },
      "outputs": [
        {
          "name": "stdout",
          "output_type": "stream",
          "text": [
            "loading annotations into memory...\n",
            "Done (t=0.01s)\n",
            "creating index...\n",
            "index created!\n"
          ]
        },
        {
          "name": "stderr",
          "output_type": "stream",
          "text": [
            "2022-01-15 17:13:06,519 - mmdet - INFO - load checkpoint from local path: checkpoints/mask_rcnn_r101_fpn_1x_coco_20200205-d4b0c5d6.pth\n"
          ]
        },
        {
          "name": "stdout",
          "output_type": "stream",
          "text": [
            "loading annotations into memory...\n",
            "Done (t=0.00s)\n",
            "creating index...\n",
            "index created!\n"
          ]
        },
        {
          "ename": "FileNotFoundError",
          "evalue": "ignored",
          "output_type": "error",
          "traceback": [
            "\u001b[0;31m---------------------------------------------------------------------------\u001b[0m",
            "\u001b[0;31mFileNotFoundError\u001b[0m                         Traceback (most recent call last)",
            "\u001b[0;32m<ipython-input-49-44a5a489df10>\u001b[0m in \u001b[0;36m<module>\u001b[0;34m()\u001b[0m\n\u001b[1;32m     15\u001b[0m \u001b[0;31m# Create work_dir\u001b[0m\u001b[0;34m\u001b[0m\u001b[0;34m\u001b[0m\u001b[0;34m\u001b[0m\u001b[0m\n\u001b[1;32m     16\u001b[0m \u001b[0mmmcv\u001b[0m\u001b[0;34m.\u001b[0m\u001b[0mmkdir_or_exist\u001b[0m\u001b[0;34m(\u001b[0m\u001b[0mosp\u001b[0m\u001b[0;34m.\u001b[0m\u001b[0mabspath\u001b[0m\u001b[0;34m(\u001b[0m\u001b[0mcfg\u001b[0m\u001b[0;34m.\u001b[0m\u001b[0mwork_dir\u001b[0m\u001b[0;34m)\u001b[0m\u001b[0;34m)\u001b[0m\u001b[0;34m\u001b[0m\u001b[0;34m\u001b[0m\u001b[0m\n\u001b[0;32m---> 17\u001b[0;31m \u001b[0mtrain_detector\u001b[0m\u001b[0;34m(\u001b[0m\u001b[0mmodel\u001b[0m\u001b[0;34m,\u001b[0m \u001b[0mdatasets\u001b[0m\u001b[0;34m,\u001b[0m \u001b[0mcfg\u001b[0m\u001b[0;34m,\u001b[0m \u001b[0mdistributed\u001b[0m\u001b[0;34m=\u001b[0m\u001b[0;32mFalse\u001b[0m\u001b[0;34m,\u001b[0m \u001b[0mvalidate\u001b[0m\u001b[0;34m=\u001b[0m\u001b[0;32mTrue\u001b[0m\u001b[0;34m)\u001b[0m\u001b[0;34m\u001b[0m\u001b[0;34m\u001b[0m\u001b[0m\n\u001b[0m",
            "\u001b[0;32m/content/mmdetection/mmdet/apis/train.py\u001b[0m in \u001b[0;36mtrain_detector\u001b[0;34m(model, dataset, cfg, distributed, validate, timestamp, meta)\u001b[0m\n\u001b[1;32m    206\u001b[0m         \u001b[0mrunner\u001b[0m\u001b[0;34m.\u001b[0m\u001b[0mresume\u001b[0m\u001b[0;34m(\u001b[0m\u001b[0mcfg\u001b[0m\u001b[0;34m.\u001b[0m\u001b[0mresume_from\u001b[0m\u001b[0;34m)\u001b[0m\u001b[0;34m\u001b[0m\u001b[0;34m\u001b[0m\u001b[0m\n\u001b[1;32m    207\u001b[0m     \u001b[0;32melif\u001b[0m \u001b[0mcfg\u001b[0m\u001b[0;34m.\u001b[0m\u001b[0mload_from\u001b[0m\u001b[0;34m:\u001b[0m\u001b[0;34m\u001b[0m\u001b[0;34m\u001b[0m\u001b[0m\n\u001b[0;32m--> 208\u001b[0;31m         \u001b[0mrunner\u001b[0m\u001b[0;34m.\u001b[0m\u001b[0mload_checkpoint\u001b[0m\u001b[0;34m(\u001b[0m\u001b[0mcfg\u001b[0m\u001b[0;34m.\u001b[0m\u001b[0mload_from\u001b[0m\u001b[0;34m)\u001b[0m\u001b[0;34m\u001b[0m\u001b[0;34m\u001b[0m\u001b[0m\n\u001b[0m\u001b[1;32m    209\u001b[0m     \u001b[0mrunner\u001b[0m\u001b[0;34m.\u001b[0m\u001b[0mrun\u001b[0m\u001b[0;34m(\u001b[0m\u001b[0mdata_loaders\u001b[0m\u001b[0;34m,\u001b[0m \u001b[0mcfg\u001b[0m\u001b[0;34m.\u001b[0m\u001b[0mworkflow\u001b[0m\u001b[0;34m)\u001b[0m\u001b[0;34m\u001b[0m\u001b[0;34m\u001b[0m\u001b[0m\n",
            "\u001b[0;32m/usr/local/lib/python3.7/dist-packages/mmcv/runner/base_runner.py\u001b[0m in \u001b[0;36mload_checkpoint\u001b[0;34m(self, filename, map_location, strict, revise_keys)\u001b[0m\n\u001b[1;32m    343\u001b[0m             \u001b[0mstrict\u001b[0m\u001b[0;34m,\u001b[0m\u001b[0;34m\u001b[0m\u001b[0;34m\u001b[0m\u001b[0m\n\u001b[1;32m    344\u001b[0m             \u001b[0mself\u001b[0m\u001b[0;34m.\u001b[0m\u001b[0mlogger\u001b[0m\u001b[0;34m,\u001b[0m\u001b[0;34m\u001b[0m\u001b[0;34m\u001b[0m\u001b[0m\n\u001b[0;32m--> 345\u001b[0;31m             revise_keys=revise_keys)\n\u001b[0m\u001b[1;32m    346\u001b[0m \u001b[0;34m\u001b[0m\u001b[0m\n\u001b[1;32m    347\u001b[0m     def resume(self,\n",
            "\u001b[0;32m/usr/local/lib/python3.7/dist-packages/mmcv/runner/checkpoint.py\u001b[0m in \u001b[0;36mload_checkpoint\u001b[0;34m(model, filename, map_location, strict, logger, revise_keys)\u001b[0m\n\u001b[1;32m    540\u001b[0m         \u001b[0mdict\u001b[0m \u001b[0;32mor\u001b[0m \u001b[0mOrderedDict\u001b[0m\u001b[0;34m:\u001b[0m \u001b[0mThe\u001b[0m \u001b[0mloaded\u001b[0m \u001b[0mcheckpoint\u001b[0m\u001b[0;34m.\u001b[0m\u001b[0;34m\u001b[0m\u001b[0;34m\u001b[0m\u001b[0m\n\u001b[1;32m    541\u001b[0m     \"\"\"\n\u001b[0;32m--> 542\u001b[0;31m     \u001b[0mcheckpoint\u001b[0m \u001b[0;34m=\u001b[0m \u001b[0m_load_checkpoint\u001b[0m\u001b[0;34m(\u001b[0m\u001b[0mfilename\u001b[0m\u001b[0;34m,\u001b[0m \u001b[0mmap_location\u001b[0m\u001b[0;34m,\u001b[0m \u001b[0mlogger\u001b[0m\u001b[0;34m)\u001b[0m\u001b[0;34m\u001b[0m\u001b[0;34m\u001b[0m\u001b[0m\n\u001b[0m\u001b[1;32m    543\u001b[0m     \u001b[0;31m# OrderedDict is a subclass of dict\u001b[0m\u001b[0;34m\u001b[0m\u001b[0;34m\u001b[0m\u001b[0;34m\u001b[0m\u001b[0m\n\u001b[1;32m    544\u001b[0m     \u001b[0;32mif\u001b[0m \u001b[0;32mnot\u001b[0m \u001b[0misinstance\u001b[0m\u001b[0;34m(\u001b[0m\u001b[0mcheckpoint\u001b[0m\u001b[0;34m,\u001b[0m \u001b[0mdict\u001b[0m\u001b[0;34m)\u001b[0m\u001b[0;34m:\u001b[0m\u001b[0;34m\u001b[0m\u001b[0;34m\u001b[0m\u001b[0m\n",
            "\u001b[0;32m/usr/local/lib/python3.7/dist-packages/mmcv/runner/checkpoint.py\u001b[0m in \u001b[0;36m_load_checkpoint\u001b[0;34m(filename, map_location, logger)\u001b[0m\n\u001b[1;32m    479\u001b[0m            \u001b[0minformation\u001b[0m\u001b[0;34m,\u001b[0m \u001b[0mwhich\u001b[0m \u001b[0mdepends\u001b[0m \u001b[0mon\u001b[0m \u001b[0mthe\u001b[0m \u001b[0mcheckpoint\u001b[0m\u001b[0;34m.\u001b[0m\u001b[0;34m\u001b[0m\u001b[0;34m\u001b[0m\u001b[0m\n\u001b[1;32m    480\u001b[0m     \"\"\"\n\u001b[0;32m--> 481\u001b[0;31m     \u001b[0;32mreturn\u001b[0m \u001b[0mCheckpointLoader\u001b[0m\u001b[0;34m.\u001b[0m\u001b[0mload_checkpoint\u001b[0m\u001b[0;34m(\u001b[0m\u001b[0mfilename\u001b[0m\u001b[0;34m,\u001b[0m \u001b[0mmap_location\u001b[0m\u001b[0;34m,\u001b[0m \u001b[0mlogger\u001b[0m\u001b[0;34m)\u001b[0m\u001b[0;34m\u001b[0m\u001b[0;34m\u001b[0m\u001b[0m\n\u001b[0m\u001b[1;32m    482\u001b[0m \u001b[0;34m\u001b[0m\u001b[0m\n\u001b[1;32m    483\u001b[0m \u001b[0;34m\u001b[0m\u001b[0m\n",
            "\u001b[0;32m/usr/local/lib/python3.7/dist-packages/mmcv/runner/checkpoint.py\u001b[0m in \u001b[0;36mload_checkpoint\u001b[0;34m(cls, filename, map_location, logger)\u001b[0m\n\u001b[1;32m    249\u001b[0m         mmcv.print_log(\n\u001b[1;32m    250\u001b[0m             f'load checkpoint from {class_name[10:]} path: {filename}', logger)\n\u001b[0;32m--> 251\u001b[0;31m         \u001b[0;32mreturn\u001b[0m \u001b[0mcheckpoint_loader\u001b[0m\u001b[0;34m(\u001b[0m\u001b[0mfilename\u001b[0m\u001b[0;34m,\u001b[0m \u001b[0mmap_location\u001b[0m\u001b[0;34m)\u001b[0m\u001b[0;34m\u001b[0m\u001b[0;34m\u001b[0m\u001b[0m\n\u001b[0m\u001b[1;32m    252\u001b[0m \u001b[0;34m\u001b[0m\u001b[0m\n\u001b[1;32m    253\u001b[0m \u001b[0;34m\u001b[0m\u001b[0m\n",
            "\u001b[0;32m/usr/local/lib/python3.7/dist-packages/mmcv/runner/checkpoint.py\u001b[0m in \u001b[0;36mload_from_local\u001b[0;34m(filename, map_location)\u001b[0m\n\u001b[1;32m    265\u001b[0m     \u001b[0mfilename\u001b[0m \u001b[0;34m=\u001b[0m \u001b[0mosp\u001b[0m\u001b[0;34m.\u001b[0m\u001b[0mexpanduser\u001b[0m\u001b[0;34m(\u001b[0m\u001b[0mfilename\u001b[0m\u001b[0;34m)\u001b[0m\u001b[0;34m\u001b[0m\u001b[0;34m\u001b[0m\u001b[0m\n\u001b[1;32m    266\u001b[0m     \u001b[0;32mif\u001b[0m \u001b[0;32mnot\u001b[0m \u001b[0mosp\u001b[0m\u001b[0;34m.\u001b[0m\u001b[0misfile\u001b[0m\u001b[0;34m(\u001b[0m\u001b[0mfilename\u001b[0m\u001b[0;34m)\u001b[0m\u001b[0;34m:\u001b[0m\u001b[0;34m\u001b[0m\u001b[0;34m\u001b[0m\u001b[0m\n\u001b[0;32m--> 267\u001b[0;31m         \u001b[0;32mraise\u001b[0m \u001b[0mFileNotFoundError\u001b[0m\u001b[0;34m(\u001b[0m\u001b[0;34mf'{filename} can not be found.'\u001b[0m\u001b[0;34m)\u001b[0m\u001b[0;34m\u001b[0m\u001b[0;34m\u001b[0m\u001b[0m\n\u001b[0m\u001b[1;32m    268\u001b[0m     \u001b[0mcheckpoint\u001b[0m \u001b[0;34m=\u001b[0m \u001b[0mtorch\u001b[0m\u001b[0;34m.\u001b[0m\u001b[0mload\u001b[0m\u001b[0;34m(\u001b[0m\u001b[0mfilename\u001b[0m\u001b[0;34m,\u001b[0m \u001b[0mmap_location\u001b[0m\u001b[0;34m=\u001b[0m\u001b[0mmap_location\u001b[0m\u001b[0;34m)\u001b[0m\u001b[0;34m\u001b[0m\u001b[0;34m\u001b[0m\u001b[0m\n\u001b[1;32m    269\u001b[0m     \u001b[0;32mreturn\u001b[0m \u001b[0mcheckpoint\u001b[0m\u001b[0;34m\u001b[0m\u001b[0;34m\u001b[0m\u001b[0m\n",
            "\u001b[0;31mFileNotFoundError\u001b[0m: checkpoints/mask_rcnn_r101_fpn_1x_coco_20200205-d4b0c5d6.pth can not be found."
          ]
        }
      ],
      "source": [
        "from mmdet.datasets import build_dataset\n",
        "from mmdet.models import build_detector\n",
        "from mmdet.apis import train_detector\n",
        "import mmcv\n",
        "import os.path as osp\n",
        "\n",
        "# Build dataset\n",
        "datasets = [build_dataset(cfg.data.train)]\n",
        "\n",
        "# Build the detector\n",
        "model = build_detector(\n",
        "    cfg.model)\n",
        "\n",
        "\n",
        "# Create work_dir\n",
        "mmcv.mkdir_or_exist(osp.abspath(cfg.work_dir))\n",
        "train_detector(model, datasets, cfg, distributed=False, validate=True)"
      ]
    },
    {
      "cell_type": "code",
      "execution_count": null,
      "metadata": {
        "colab": {
          "base_uri": "https://localhost:8080/"
        },
        "id": "tTymBTKnhlDY",
        "outputId": "4f9d1792-3703-4a29-f024-e5f18bd6ebb4"
      },
      "outputs": [
        {
          "data": {
            "text/plain": [
              "{'rcnn': {'mask_thr_binary': 0.5,\n",
              "  'max_per_img': 100,\n",
              "  'nms': {'iou_threshold': 0.5, 'type': 'nms'},\n",
              "  'score_thr': 0.05},\n",
              " 'rpn': {'max_per_img': 1000,\n",
              "  'min_bbox_size': 0,\n",
              "  'nms': {'iou_threshold': 0.7, 'type': 'nms'},\n",
              "  'nms_pre': 1000}}"
            ]
          },
          "execution_count": 95,
          "metadata": {},
          "output_type": "execute_result"
        }
      ],
      "source": [
        "cfg.model.test_cfg"
      ]
    }
  ],
  "metadata": {
    "accelerator": "GPU",
    "colab": {
      "name": "Road_Sign_MaskRCNN.ipynb",
      "provenance": [],
      "authorship_tag": "ABX9TyOc2FR/jECjbtiIItkCAPjs",
      "include_colab_link": true
    },
    "kernelspec": {
      "display_name": "Python 3",
      "name": "python3"
    },
    "language_info": {
      "name": "python"
    }
  },
  "nbformat": 4,
  "nbformat_minor": 0
}